{
  "nbformat": 4,
  "nbformat_minor": 0,
  "metadata": {
    "colab": {
      "provenance": [],
      "mount_file_id": "1m66ErueUZiO58kkDyvLXP0fl2BKJFxhG",
      "authorship_tag": "ABX9TyO8pu0Ii9GivM4yF5dd06FX",
      "include_colab_link": true
    },
    "kernelspec": {
      "name": "python3",
      "display_name": "Python 3"
    },
    "language_info": {
      "name": "python"
    }
  },
  "cells": [
    {
      "cell_type": "markdown",
      "metadata": {
        "id": "view-in-github",
        "colab_type": "text"
      },
      "source": [
        "<a href=\"https://colab.research.google.com/github/Reign2121/Mining-project2/blob/main/%EA%B3%B5%EB%A6%89_%ED%9A%8C%EA%B7%80.ipynb\" target=\"_parent\"><img src=\"https://colab.research.google.com/assets/colab-badge.svg\" alt=\"Open In Colab\"/></a>"
      ]
    },
    {
      "cell_type": "markdown",
      "source": [
        "회귀분석입니다! 정확히는 다중회귀분석(or 다변량)이라고 합니다.\n",
        "\n",
        "회귀분석의 모델을 검정하고 평가하는 방법은 크게 두 가지 방향이 있습니다.\n",
        "\n",
        "1. 통계적 관점, t-test로 계수들의 유의성을 검정하고, f-test로 모델의 유의성을 검정합니다.\n",
        "2. CS 관점, 대량 데이터를 통한 test 결과에 따라 유의성을 검정합니다.\n",
        "\n",
        "저는 이 프로젝트에서 데이터의 수가 충분하지 않고, 지나치게 많고 복잡한 변수들을 문제점으로 식별하고 통계적인 스탠스를 취했습니다."
      ],
      "metadata": {
        "id": "JUJbXRHRCHIk"
      }
    },
    {
      "cell_type": "code",
      "source": [
        "from google.colab import drive\n",
        "drive.mount('/content/drive')"
      ],
      "metadata": {
        "colab": {
          "base_uri": "https://localhost:8080/"
        },
        "id": "JMRVAaZBb7OI",
        "outputId": "bf207933-4ce0-49cc-cd53-cae82264c7de"
      },
      "execution_count": null,
      "outputs": [
        {
          "output_type": "stream",
          "name": "stdout",
          "text": [
            "Drive already mounted at /content/drive; to attempt to forcibly remount, call drive.mount(\"/content/drive\", force_remount=True).\n"
          ]
        }
      ]
    },
    {
      "cell_type": "code",
      "source": [
        "import pandas as pd\n",
        "import numpy as np\n",
        "G = pd.read_csv(\"/content/drive/MyDrive/Colab Notebooks/Colab/머신러닝 입문/Data/공릉동_상권분석_최최종_.csv\",encoding = 'cp949')\n",
        "G = pd.get_dummies(G)\n",
        "G.info()"
      ],
      "metadata": {
        "colab": {
          "base_uri": "https://localhost:8080/"
        },
        "id": "u4Q__J48b6_X",
        "outputId": "669f9f46-0ee4-4c0f-8862-289d02215a78"
      },
      "execution_count": null,
      "outputs": [
        {
          "output_type": "stream",
          "name": "stdout",
          "text": [
            "<class 'pandas.core.frame.DataFrame'>\n",
            "RangeIndex: 506 entries, 0 to 505\n",
            "Data columns (total 20 columns):\n",
            " #   Column               Non-Null Count  Dtype\n",
            "---  ------               --------------  -----\n",
            " 0   분기당_매출_금액            506 non-null    int64\n",
            " 1   분기당_매출_건수            506 non-null    int64\n",
            " 2   남성_매출_비율             506 non-null    int64\n",
            " 3   여성_매출_비율             506 non-null    int64\n",
            " 4   연령대_10_매출_비율         506 non-null    int64\n",
            " 5   연령대_20_매출_비율         506 non-null    int64\n",
            " 6   연령대_30_매출_비율         506 non-null    int64\n",
            " 7   서비스_업종_코드_명_농수산물     506 non-null    uint8\n",
            " 8   서비스_업종_코드_명_마트/편의점   506 non-null    uint8\n",
            " 9   서비스_업종_코드_명_미용       506 non-null    uint8\n",
            " 10  서비스_업종_코드_명_생활       506 non-null    uint8\n",
            " 11  서비스_업종_코드_명_서적/문구    506 non-null    uint8\n",
            " 12  서비스_업종_코드_명_스포츠      506 non-null    uint8\n",
            " 13  서비스_업종_코드_명_여가       506 non-null    uint8\n",
            " 14  서비스_업종_코드_명_음식점      506 non-null    uint8\n",
            " 15  서비스_업종_코드_명_의류/신발    506 non-null    uint8\n",
            " 16  서비스_업종_코드_명_의원       506 non-null    uint8\n",
            " 17  서비스_업종_코드_명_제과/음료    506 non-null    uint8\n",
            " 18  서비스_업종_코드_명_학원       506 non-null    uint8\n",
            " 19  서비스_업종_코드_명_호프-간이주점  506 non-null    uint8\n",
            "dtypes: int64(7), uint8(13)\n",
            "memory usage: 34.2 KB\n"
          ]
        }
      ]
    },
    {
      "cell_type": "markdown",
      "source": [
        "statsmodel 결과를 보고 t-test 통과한 변수들만 남기기!!"
      ],
      "metadata": {
        "id": "P7NCEVW7CAeA"
      }
    },
    {
      "cell_type": "code",
      "source": [
        "y = G['분기당_매출_건수']\n",
        "X1 = G.iloc[:,0:20]\n",
        "X1 = X1.drop('분기당_매출_건수', axis = 1)\n",
        "X1 = X1.drop('서비스_업종_코드_명_호프-간이주점', axis = 1)\n",
        "X1 = X1.drop('서비스_업종_코드_명_의류/신발', axis = 1)\n",
        "X1 = X1.drop('서비스_업종_코드_명_생활', axis = 1)\n",
        "X1 = X1.drop('서비스_업종_코드_명_서적/문구', axis = 1)\n",
        "X1 = X1.drop('서비스_업종_코드_명_스포츠', axis = 1)\n",
        "X1 = X1.drop('서비스_업종_코드_명_학원', axis = 1)\n",
        "X1 = X1.drop('서비스_업종_코드_명_농수산물', axis = 1)\n",
        "X1 = X1.drop('연령대_30_매출_비율', axis = 1)\n",
        "X1 = X1.drop('남성_매출_비율', axis = 1)\n",
        "X1 = X1.drop('여성_매출_비율', axis = 1)"
      ],
      "metadata": {
        "id": "_1gRysz0FNwe"
      },
      "execution_count": null,
      "outputs": []
    },
    {
      "cell_type": "code",
      "source": [
        "from sklearn.model_selection import train_test_split\n",
        "X_train, X_test, y_train, y_test = train_test_split(X1,y, test_size = 0.2, random_state = 42)"
      ],
      "metadata": {
        "id": "V0EdHJbGFWgI"
      },
      "execution_count": null,
      "outputs": []
    },
    {
      "cell_type": "code",
      "execution_count": null,
      "metadata": {
        "colab": {
          "base_uri": "https://localhost:8080/"
        },
        "id": "oytb8mK3cdhb",
        "outputId": "e9b9c22f-7366-4afe-a672-ffae07c8a239"
      },
      "outputs": [
        {
          "output_type": "stream",
          "name": "stdout",
          "text": [
            "회귀계수: [     0.     -7673.347    937.579 239842.014 -33824.04   19356.384\n",
            "  16713.532  20768.943  95247.744] 상수항: -11541.849515143978\n"
          ]
        }
      ],
      "source": [
        "from sklearn.linear_model import LinearRegression\n",
        "lr_model = LinearRegression()\n",
        "lr_model.fit(X_train, y_train)\n",
        "y_predict = lr_model.predict(X_test) #모형 학습에는 전혀 쓰이지 않은 테스트 데이터를 넣어주어야 한다\n",
        "np.set_printoptions(suppress=True, precision=3)\n",
        "print(\"회귀계수:\", lr_model.coef_, \"상수항:\", lr_model.intercept_)"
      ]
    },
    {
      "cell_type": "code",
      "source": [
        "np.set_printoptions(suppress=True, precision=3)"
      ],
      "metadata": {
        "id": "sGbZu2h-9CM9"
      },
      "execution_count": null,
      "outputs": []
    },
    {
      "cell_type": "code",
      "source": [
        "R2 = lr_model.score(X_train, y_train)\n",
        "print(\"결정계수:\", R2)"
      ],
      "metadata": {
        "id": "muwIS5sQ9EGE",
        "colab": {
          "base_uri": "https://localhost:8080/"
        },
        "outputId": "f4e246f7-2037-44af-8320-ad6d5ecd0dbe"
      },
      "execution_count": null,
      "outputs": [
        {
          "output_type": "stream",
          "name": "stdout",
          "text": [
            "결정계수: 0.7881874424454021\n"
          ]
        }
      ]
    },
    {
      "cell_type": "code",
      "source": [
        "import statsmodels.api as sm \n",
        "results = sm.OLS(y, sm.add_constant(X1)).fit() \n",
        "results.summary()"
      ],
      "metadata": {
        "colab": {
          "base_uri": "https://localhost:8080/",
          "height": 674
        },
        "id": "GNKBIb85fGFq",
        "outputId": "0d6b26b8-5b00-42c7-aab4-ba56cecb8ef9"
      },
      "execution_count": null,
      "outputs": [
        {
          "output_type": "stream",
          "name": "stderr",
          "text": [
            "/usr/local/lib/python3.7/dist-packages/statsmodels/tsa/tsatools.py:117: FutureWarning: In a future version of pandas all arguments of concat except for the argument 'objs' will be keyword-only\n",
            "  x = pd.concat(x[::order], 1)\n"
          ]
        },
        {
          "output_type": "execute_result",
          "data": {
            "text/plain": [
              "<class 'statsmodels.iolib.summary.Summary'>\n",
              "\"\"\"\n",
              "                            OLS Regression Results                            \n",
              "==============================================================================\n",
              "Dep. Variable:              분기당_매출_건수   R-squared:                       0.802\n",
              "Model:                            OLS   Adj. R-squared:                  0.799\n",
              "Method:                 Least Squares   F-statistic:                     223.6\n",
              "Date:                Mon, 23 May 2022   Prob (F-statistic):          2.55e-168\n",
              "Time:                        14:36:19   Log-Likelihood:                -6129.8\n",
              "No. Observations:                 506   AIC:                         1.228e+04\n",
              "Df Residuals:                     496   BIC:                         1.232e+04\n",
              "Df Model:                           9                                         \n",
              "Covariance Type:            nonrobust                                         \n",
              "======================================================================================\n",
              "                         coef    std err          t      P>|t|      [0.025      0.975]\n",
              "--------------------------------------------------------------------------------------\n",
              "const              -1.145e+04   3305.888     -3.464      0.001   -1.79e+04   -4956.951\n",
              "분기당_매출_금액           3.335e-05   1.27e-06     26.236      0.000    3.09e-05    3.58e-05\n",
              "연령대_10_매출_비율       -6997.1621   1554.715     -4.501      0.000   -1.01e+04   -3942.522\n",
              "연령대_20_매출_비율         898.4996    148.683      6.043      0.000     606.374    1190.625\n",
              "서비스_업종_코드_명_마트/편의점  2.415e+05   1.05e+04     23.016      0.000    2.21e+05    2.62e+05\n",
              "서비스_업종_코드_명_미용     -2.554e+04   7115.888     -3.589      0.000   -3.95e+04   -1.16e+04\n",
              "서비스_업종_코드_명_여가      1.948e+04   8898.132      2.190      0.029    2000.277     3.7e+04\n",
              "서비스_업종_코드_명_음식점     1.533e+04   6123.390      2.503      0.013    3296.964    2.74e+04\n",
              "서비스_업종_코드_명_의원      2.709e+04   7192.007      3.766      0.000     1.3e+04    4.12e+04\n",
              "서비스_업종_코드_명_제과/음료    8.45e+04      1e+04      8.415      0.000    6.48e+04    1.04e+05\n",
              "==============================================================================\n",
              "Omnibus:                       82.671   Durbin-Watson:                   2.225\n",
              "Prob(Omnibus):                  0.000   Jarque-Bera (JB):              939.770\n",
              "Skew:                           0.234   Prob(JB):                    8.54e-205\n",
              "Kurtosis:                       9.660   Cond. No.                     1.20e+10\n",
              "==============================================================================\n",
              "\n",
              "Warnings:\n",
              "[1] Standard Errors assume that the covariance matrix of the errors is correctly specified.\n",
              "[2] The condition number is large, 1.2e+10. This might indicate that there are\n",
              "strong multicollinearity or other numerical problems.\n",
              "\"\"\""
            ],
            "text/html": [
              "<table class=\"simpletable\">\n",
              "<caption>OLS Regression Results</caption>\n",
              "<tr>\n",
              "  <th>Dep. Variable:</th>        <td>분기당_매출_건수</td>    <th>  R-squared:         </th> <td>   0.802</td> \n",
              "</tr>\n",
              "<tr>\n",
              "  <th>Model:</th>                   <td>OLS</td>       <th>  Adj. R-squared:    </th> <td>   0.799</td> \n",
              "</tr>\n",
              "<tr>\n",
              "  <th>Method:</th>             <td>Least Squares</td>  <th>  F-statistic:       </th> <td>   223.6</td> \n",
              "</tr>\n",
              "<tr>\n",
              "  <th>Date:</th>             <td>Mon, 23 May 2022</td> <th>  Prob (F-statistic):</th> <td>2.55e-168</td>\n",
              "</tr>\n",
              "<tr>\n",
              "  <th>Time:</th>                 <td>14:36:19</td>     <th>  Log-Likelihood:    </th> <td> -6129.8</td> \n",
              "</tr>\n",
              "<tr>\n",
              "  <th>No. Observations:</th>      <td>   506</td>      <th>  AIC:               </th> <td>1.228e+04</td>\n",
              "</tr>\n",
              "<tr>\n",
              "  <th>Df Residuals:</th>          <td>   496</td>      <th>  BIC:               </th> <td>1.232e+04</td>\n",
              "</tr>\n",
              "<tr>\n",
              "  <th>Df Model:</th>              <td>     9</td>      <th>                     </th>     <td> </td>    \n",
              "</tr>\n",
              "<tr>\n",
              "  <th>Covariance Type:</th>      <td>nonrobust</td>    <th>                     </th>     <td> </td>    \n",
              "</tr>\n",
              "</table>\n",
              "<table class=\"simpletable\">\n",
              "<tr>\n",
              "           <td></td>             <th>coef</th>     <th>std err</th>      <th>t</th>      <th>P>|t|</th>  <th>[0.025</th>    <th>0.975]</th>  \n",
              "</tr>\n",
              "<tr>\n",
              "  <th>const</th>              <td>-1.145e+04</td> <td> 3305.888</td> <td>   -3.464</td> <td> 0.001</td> <td>-1.79e+04</td> <td>-4956.951</td>\n",
              "</tr>\n",
              "<tr>\n",
              "  <th>분기당_매출_금액</th>          <td> 3.335e-05</td> <td> 1.27e-06</td> <td>   26.236</td> <td> 0.000</td> <td> 3.09e-05</td> <td> 3.58e-05</td>\n",
              "</tr>\n",
              "<tr>\n",
              "  <th>연령대_10_매출_비율</th>       <td>-6997.1621</td> <td> 1554.715</td> <td>   -4.501</td> <td> 0.000</td> <td>-1.01e+04</td> <td>-3942.522</td>\n",
              "</tr>\n",
              "<tr>\n",
              "  <th>연령대_20_매출_비율</th>       <td>  898.4996</td> <td>  148.683</td> <td>    6.043</td> <td> 0.000</td> <td>  606.374</td> <td> 1190.625</td>\n",
              "</tr>\n",
              "<tr>\n",
              "  <th>서비스_업종_코드_명_마트/편의점</th> <td> 2.415e+05</td> <td> 1.05e+04</td> <td>   23.016</td> <td> 0.000</td> <td> 2.21e+05</td> <td> 2.62e+05</td>\n",
              "</tr>\n",
              "<tr>\n",
              "  <th>서비스_업종_코드_명_미용</th>     <td>-2.554e+04</td> <td> 7115.888</td> <td>   -3.589</td> <td> 0.000</td> <td>-3.95e+04</td> <td>-1.16e+04</td>\n",
              "</tr>\n",
              "<tr>\n",
              "  <th>서비스_업종_코드_명_여가</th>     <td> 1.948e+04</td> <td> 8898.132</td> <td>    2.190</td> <td> 0.029</td> <td> 2000.277</td> <td>  3.7e+04</td>\n",
              "</tr>\n",
              "<tr>\n",
              "  <th>서비스_업종_코드_명_음식점</th>    <td> 1.533e+04</td> <td> 6123.390</td> <td>    2.503</td> <td> 0.013</td> <td> 3296.964</td> <td> 2.74e+04</td>\n",
              "</tr>\n",
              "<tr>\n",
              "  <th>서비스_업종_코드_명_의원</th>     <td> 2.709e+04</td> <td> 7192.007</td> <td>    3.766</td> <td> 0.000</td> <td>  1.3e+04</td> <td> 4.12e+04</td>\n",
              "</tr>\n",
              "<tr>\n",
              "  <th>서비스_업종_코드_명_제과/음료</th>  <td>  8.45e+04</td> <td>    1e+04</td> <td>    8.415</td> <td> 0.000</td> <td> 6.48e+04</td> <td> 1.04e+05</td>\n",
              "</tr>\n",
              "</table>\n",
              "<table class=\"simpletable\">\n",
              "<tr>\n",
              "  <th>Omnibus:</th>       <td>82.671</td> <th>  Durbin-Watson:     </th> <td>   2.225</td> \n",
              "</tr>\n",
              "<tr>\n",
              "  <th>Prob(Omnibus):</th> <td> 0.000</td> <th>  Jarque-Bera (JB):  </th> <td> 939.770</td> \n",
              "</tr>\n",
              "<tr>\n",
              "  <th>Skew:</th>          <td> 0.234</td> <th>  Prob(JB):          </th> <td>8.54e-205</td>\n",
              "</tr>\n",
              "<tr>\n",
              "  <th>Kurtosis:</th>      <td> 9.660</td> <th>  Cond. No.          </th> <td>1.20e+10</td> \n",
              "</tr>\n",
              "</table><br/><br/>Warnings:<br/>[1] Standard Errors assume that the covariance matrix of the errors is correctly specified.<br/>[2] The condition number is large, 1.2e+10. This might indicate that there are<br/>strong multicollinearity or other numerical problems."
            ]
          },
          "metadata": {},
          "execution_count": 11
        }
      ]
    },
    {
      "cell_type": "markdown",
      "source": [
        "통계적으로 유의미한 모델 도출 성공!!\n",
        "\n",
        "adj r^2 = 0.799\n",
        "\n",
        "\n",
        "F의 P -value / T의 P-value 모두 유의수준 0.05보다 작습니다!\n",
        "\n",
        "확실히 대학가 이기 때문에 20대의 매출비율이 상대적으로 높네요.\n",
        "\n",
        "미용분야의 업종이 저조하고 제과/음료가 매출 건수에 가장 큰 영향력을 미치고 있습니다.\n",
        "\n",
        "매출건수에 미치는 영향력들을 고려하여 마케팅 전략을 도출할 수 있겠죠!!"
      ],
      "metadata": {
        "id": "DMDQwwhUDlH7"
      }
    }
  ]
}